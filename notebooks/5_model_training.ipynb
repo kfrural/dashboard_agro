{
 "cells": [
  {
   "cell_type": "code",
   "execution_count": null,
   "id": "d8dac965",
   "metadata": {},
   "outputs": [],
   "source": [
    "\n",
    "\n",
    "import pandas as pd\n",
    "from sklearn.model_selection import train_test_split\n",
    "from sklearn.ensemble import RandomForestRegressor\n",
    "from sklearn.metrics import mean_squared_error\n",
    "\n",
    "df = pd.read_csv('../data/raw/producao_agropecuaria.csv')\n",
    "df.dropna(inplace=True)\n",
    "\n",
    "X = pd.get_dummies(df[['ano', 'estado', 'produto']])\n",
    "y = df['producao_toneladas']\n",
    "\n",
    "X_train, X_test, y_train, y_test = train_test_split(X, y, test_size=0.2, random_state=42)\n",
    "\n",
    "model = RandomForestRegressor()\n",
    "model.fit(X_train, y_train)\n",
    "\n",
    "preds = model.predict(X_test)\n",
    "print(\"Erro médio quadrático:\", mean_squared_error(y_test, preds, squared=False))\n"
   ]
  }
 ],
 "metadata": {
  "language_info": {
   "name": "python"
  }
 },
 "nbformat": 4,
 "nbformat_minor": 5
}
