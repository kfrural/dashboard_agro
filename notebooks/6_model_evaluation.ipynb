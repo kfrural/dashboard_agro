{
 "cells": [
  {
   "cell_type": "code",
   "execution_count": null,
   "id": "4a5b3639",
   "metadata": {},
   "outputs": [],
   "source": [
    "# 📈 Avaliação de Modelos\n",
    "\n",
    "from sklearn.metrics import mean_absolute_error, r2_score\n",
    "\n",
    "mae = mean_absolute_error(y_test, preds)\n",
    "r2 = r2_score(y_test, preds)\n",
    "\n",
    "print(f'MAE: {mae:.2f}')\n",
    "print(f'R²: {r2:.2f}')\n"
   ]
  }
 ],
 "metadata": {
  "language_info": {
   "name": "python"
  }
 },
 "nbformat": 4,
 "nbformat_minor": 5
}
