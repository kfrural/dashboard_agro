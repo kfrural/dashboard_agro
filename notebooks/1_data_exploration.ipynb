{
 "cells": [
  {
   "cell_type": "code",
   "execution_count": null,
   "id": "04fdd022",
   "metadata": {},
   "outputs": [],
   "source": [
    "# 🔍 Análise Exploratória dos Dados\n",
    "\n",
    "import pandas as pd\n",
    "\n",
    "# Carregar dados\n",
    "df = pd.read_csv('../data/raw/producao_agropecuaria.csv')\n",
    "\n",
    "# Visualizar primeiras linhas\n",
    "df.head()\n",
    "\n",
    "df.info()\n",
    "\n",
    "df.describe()\n"
   ]
  }
 ],
 "metadata": {
  "language_info": {
   "name": "python"
  }
 },
 "nbformat": 4,
 "nbformat_minor": 5
}
