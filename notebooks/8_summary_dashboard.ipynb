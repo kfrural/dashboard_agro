{
 "cells": [
  {
   "cell_type": "code",
   "execution_count": null,
   "id": "85323ce7",
   "metadata": {},
   "outputs": [],
   "source": [
    "# 📊 Dashboard Final\n",
    "\n",
    "import pandas as pd\n",
    "import plotly.express as px\n",
    "\n",
    "df = pd.read_csv('../data/raw/producao_agropecuaria.csv')\n",
    "\n",
    "fig = px.line(df, x='ano', y='producao_toneladas', color='produto', title='Produção ao Longo dos Anos')\n",
    "fig.show()\n"
   ]
  }
 ],
 "metadata": {
  "language_info": {
   "name": "python"
  }
 },
 "nbformat": 4,
 "nbformat_minor": 5
}
