{
 "cells": [
  {
   "cell_type": "code",
   "execution_count": null,
   "id": "5f6c80d7",
   "metadata": {},
   "outputs": [],
   "source": [
    "import pandas as pd\n",
    "\n",
    "df = pd.read_csv('../data/raw/producao_agropecuaria.csv')\n",
    "\n",
    "print(df.isnull().sum())\n",
    "\n",
    "df['producao_toneladas'].fillna(df['producao_toneladas'].mean(), inplace=True)\n",
    "\n",
    "df['ano'] = df['ano'].astype(int)\n",
    "\n",
    "df.head()\n"
   ]
  }
 ],
 "metadata": {
  "language_info": {
   "name": "python"
  }
 },
 "nbformat": 4,
 "nbformat_minor": 5
}
