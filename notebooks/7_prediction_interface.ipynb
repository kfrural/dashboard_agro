{
 "cells": [
  {
   "cell_type": "code",
   "execution_count": null,
   "id": "25fbd186",
   "metadata": {},
   "outputs": [],
   "source": [
    "import pandas as pd\n",
    "import ipywidgets as widgets\n",
    "from IPython.display import display\n",
    "from sklearn.ensemble import RandomForestRegressor\n",
    "\n",
    "df = pd.read_csv('../data/raw/producao_agropecuaria.csv')\n",
    "df.dropna(inplace=True)\n",
    "\n",
    "X = pd.get_dummies(df[['ano', 'estado', 'produto']])\n",
    "y = df['producao_toneladas']\n",
    "model = RandomForestRegressor().fit(X, y)\n",
    "\n",
    "ano = widgets.IntSlider(min=2000, max=2025, step=1, value=2024, description='Ano:')\n",
    "estado = widgets.Dropdown(options=df['estado'].unique(), description='Estado:')\n",
    "produto = widgets.Dropdown(options=df['produto'].unique(), description='Produto:')\n",
    "output = widgets.Output()\n",
    "\n",
    "def prever(b):\n",
    "    input_df = pd.get_dummies(pd.DataFrame([[ano.value, estado.value, produto.value]],\n",
    "                                           columns=['ano', 'estado', 'produto']))\n",
    "    input_df = input_df.reindex(columns=X.columns, fill_value=0)\n",
    "    pred = model.predict(input_df)[0]\n",
    "    output.clear_output()\n",
    "    with output:\n",
    "        print(f\"Previsão: {pred:.2f} toneladas\")\n",
    "\n",
    "button = widgets.Button(description='Prever')\n",
    "button.on_click(prever)\n",
    "\n",
    "display(ano, estado, produto, button, output)\n"
   ]
  }
 ],
 "metadata": {
  "language_info": {
   "name": "python"
  }
 },
 "nbformat": 4,
 "nbformat_minor": 5
}
