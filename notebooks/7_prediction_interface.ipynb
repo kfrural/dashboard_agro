{
 "cells": [
  {
   "cell_type": "code",
   "execution_count": null,
   "id": "25fbd186",
   "metadata": {},
   "outputs": [
    {
     "data": {
      "application/vnd.jupyter.widget-view+json": {
       "model_id": "abec96716a0745f9afb252277ff1b9e7",
       "version_major": 2,
       "version_minor": 0
      },
      "text/plain": [
       "IntSlider(value=2024, description='Ano:', max=2025, min=2000)"
      ]
     },
     "metadata": {},
     "output_type": "display_data"
    },
    {
     "data": {
      "application/vnd.jupyter.widget-view+json": {
       "model_id": "019dfd018f0841909ccaa7e47efc8b35",
       "version_major": 2,
       "version_minor": 0
      },
      "text/plain": [
       "Dropdown(description='Estado:', options=('PE', 'AL', 'RR', 'RO', 'PB', 'DF', 'TO', 'SP', 'PI', 'RJ', 'SE', 'AP…"
      ]
     },
     "metadata": {},
     "output_type": "display_data"
    },
    {
     "data": {
      "application/vnd.jupyter.widget-view+json": {
       "model_id": "292df942ddb84f50b66ebaf49db661cf",
       "version_major": 2,
       "version_minor": 0
      },
      "text/plain": [
       "Dropdown(description='Produto:', options=('Soja', 'Frango', 'Leite', 'Milho', 'Bovinos', 'Feijão', 'Algodão', …"
      ]
     },
     "metadata": {},
     "output_type": "display_data"
    },
    {
     "data": {
      "application/vnd.jupyter.widget-view+json": {
       "model_id": "a3bcb7c8b77240059b80848c6d03980c",
       "version_major": 2,
       "version_minor": 0
      },
      "text/plain": [
       "Button(description='Prever', style=ButtonStyle())"
      ]
     },
     "metadata": {},
     "output_type": "display_data"
    },
    {
     "data": {
      "application/vnd.jupyter.widget-view+json": {
       "model_id": "041ecf658a4447d89458fce42267873e",
       "version_major": 2,
       "version_minor": 0
      },
      "text/plain": [
       "Output()"
      ]
     },
     "metadata": {},
     "output_type": "display_data"
    }
   ],
   "source": [
    "import pandas as pd\n",
    "import ipywidgets as widgets\n",
    "from IPython.display import display\n",
    "from sklearn.ensemble import RandomForestRegressor\n",
    "\n",
    "df = pd.read_csv('../data/raw/producao_agropecuaria.csv')\n",
    "df.dropna(inplace=True)\n",
    "\n",
    "X = pd.get_dummies(df[['ano', 'estado', 'produto']])\n",
    "y = df['producao_toneladas']\n",
    "model = RandomForestRegressor().fit(X, y)\n",
    "\n",
    "ano = widgets.IntSlider(min=2000, max=2025, step=1, value=2024, description='Ano:')\n",
    "estado = widgets.Dropdown(options=df['estado'].unique(), description='Estado:')\n",
    "produto = widgets.Dropdown(options=df['produto'].unique(), description='Produto:')\n",
    "output = widgets.Output()\n",
    "\n",
    "def prever(b):\n",
    "    input_df = pd.get_dummies(pd.DataFrame([[ano.value, estado.value, produto.value]],\n",
    "                                           columns=['ano', 'estado', 'produto']))\n",
    "    input_df = input_df.reindex(columns=X.columns, fill_value=0)\n",
    "    pred = model.predict(input_df)[0]\n",
    "    output.clear_output()\n",
    "    with output:\n",
    "        print(f\"Previsão: {pred:.2f} toneladas\")\n",
    "\n",
    "button = widgets.Button(description='Prever')\n",
    "button.on_click(prever)\n",
    "\n",
    "display(ano, estado, produto, button, output)\n"
   ]
  }
 ],
 "metadata": {
  "kernelspec": {
   "display_name": "venv",
   "language": "python",
   "name": "python3"
  },
  "language_info": {
   "codemirror_mode": {
    "name": "ipython",
    "version": 3
   },
   "file_extension": ".py",
   "mimetype": "text/x-python",
   "name": "python",
   "nbconvert_exporter": "python",
   "pygments_lexer": "ipython3",
   "version": "3.12.1"
  }
 },
 "nbformat": 4,
 "nbformat_minor": 5
}
