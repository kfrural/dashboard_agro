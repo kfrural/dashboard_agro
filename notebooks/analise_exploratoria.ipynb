{
 "cells": [
  {
   "cell_type": "code",
   "execution_count": null,
   "id": "db159a58",
   "metadata": {},
   "outputs": [],
   "source": [
    "import pandas as pd\n",
    "import requests\n",
    "# Importando bibliotecas\n",
    "from fastapi import FastAPI\n",
    "from fastapi.responses import JSONResponse\n",
    "from fastapi.middleware.cors import CORSMiddleware\n",
    "from dotenv import load_dotenv\n",
    "# Puxar dados FAO (simulado com CSV ou API)\n",
    "df = pd.read_csv(\"https://raw.githubusercontent.com/datasets/global-temp/master/data/monthly.csv\")\n",
    "df.head()\n",
    "\n",
    "# Análise exploratória\n",
    "df[\"Date\"] = pd.to_datetime(df[\"Date\"])\n",
    "df.set_index(\"Date\").plot(figsize=(12,6), title=\"Temperatura Global\")\n"
   ]
  }
 ],
 "metadata": {
  "language_info": {
   "name": "python"
  }
 },
 "nbformat": 4,
 "nbformat_minor": 5
}
