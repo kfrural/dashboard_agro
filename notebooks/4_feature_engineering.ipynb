{
 "cells": [
  {
   "cell_type": "code",
   "execution_count": null,
   "id": "a3fa89d0",
   "metadata": {},
   "outputs": [],
   "source": [
    "\n",
    "\n",
    "import pandas as pd\n",
    "import numpy as np\n",
    "\n",
    "df = pd.read_csv('../data/raw/producao_agropecuaria.csv')\n",
    "\n",
    "# Criar nova coluna com logaritmo\n",
    "df['log_producao'] = df['producao_toneladas'].apply(lambda x: np.log1p(x))\n",
    "\n",
    "df.head()\n"
   ]
  }
 ],
 "metadata": {
  "language_info": {
   "name": "python"
  }
 },
 "nbformat": 4,
 "nbformat_minor": 5
}
