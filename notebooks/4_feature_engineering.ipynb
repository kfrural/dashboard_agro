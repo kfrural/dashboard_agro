{
 "cells": [
  {
   "cell_type": "code",
   "execution_count": 1,
   "id": "a3fa89d0",
   "metadata": {},
   "outputs": [
    {
     "name": "stderr",
     "output_type": "stream",
     "text": [
      "/tmp/ipykernel_36234/2624707283.py:6: RuntimeWarning: invalid value encountered in log1p\n",
      "  df['log_producao'] = df['producao_toneladas'].apply(lambda x: np.log1p(x))\n"
     ]
    },
    {
     "data": {
      "text/html": [
       "<div>\n",
       "<style scoped>\n",
       "    .dataframe tbody tr th:only-of-type {\n",
       "        vertical-align: middle;\n",
       "    }\n",
       "\n",
       "    .dataframe tbody tr th {\n",
       "        vertical-align: top;\n",
       "    }\n",
       "\n",
       "    .dataframe thead th {\n",
       "        text-align: right;\n",
       "    }\n",
       "</style>\n",
       "<table border=\"1\" class=\"dataframe\">\n",
       "  <thead>\n",
       "    <tr style=\"text-align: right;\">\n",
       "      <th></th>\n",
       "      <th>ano</th>\n",
       "      <th>estado</th>\n",
       "      <th>produto</th>\n",
       "      <th>producao_toneladas</th>\n",
       "      <th>unidade</th>\n",
       "      <th>log_producao</th>\n",
       "    </tr>\n",
       "  </thead>\n",
       "  <tbody>\n",
       "    <tr>\n",
       "      <th>0</th>\n",
       "      <td>2023</td>\n",
       "      <td>PE</td>\n",
       "      <td>Soja</td>\n",
       "      <td>6612.11</td>\n",
       "      <td>toneladas</td>\n",
       "      <td>8.796809</td>\n",
       "    </tr>\n",
       "    <tr>\n",
       "      <th>1</th>\n",
       "      <td>2020</td>\n",
       "      <td>AL</td>\n",
       "      <td>Frango</td>\n",
       "      <td>6072.49</td>\n",
       "      <td>toneladas</td>\n",
       "      <td>8.711689</td>\n",
       "    </tr>\n",
       "    <tr>\n",
       "      <th>2</th>\n",
       "      <td>2011</td>\n",
       "      <td>RR</td>\n",
       "      <td>Leite</td>\n",
       "      <td>3999.02</td>\n",
       "      <td>toneladas</td>\n",
       "      <td>8.294055</td>\n",
       "    </tr>\n",
       "    <tr>\n",
       "      <th>3</th>\n",
       "      <td>2003</td>\n",
       "      <td>RO</td>\n",
       "      <td>Milho</td>\n",
       "      <td>4583.16</td>\n",
       "      <td>toneladas</td>\n",
       "      <td>8.430362</td>\n",
       "    </tr>\n",
       "    <tr>\n",
       "      <th>4</th>\n",
       "      <td>2010</td>\n",
       "      <td>PB</td>\n",
       "      <td>Soja</td>\n",
       "      <td>2768.13</td>\n",
       "      <td>toneladas</td>\n",
       "      <td>7.926288</td>\n",
       "    </tr>\n",
       "  </tbody>\n",
       "</table>\n",
       "</div>"
      ],
      "text/plain": [
       "    ano estado produto  producao_toneladas    unidade  log_producao\n",
       "0  2023     PE    Soja             6612.11  toneladas      8.796809\n",
       "1  2020     AL  Frango             6072.49  toneladas      8.711689\n",
       "2  2011     RR   Leite             3999.02  toneladas      8.294055\n",
       "3  2003     RO   Milho             4583.16  toneladas      8.430362\n",
       "4  2010     PB    Soja             2768.13  toneladas      7.926288"
      ]
     },
     "execution_count": 1,
     "metadata": {},
     "output_type": "execute_result"
    }
   ],
   "source": [
    "import pandas as pd\n",
    "import numpy as np\n",
    "\n",
    "df = pd.read_csv('../data/raw/producao_agropecuaria.csv')\n",
    "\n",
    "df['log_producao'] = df['producao_toneladas'].apply(lambda x: np.log1p(x))\n",
    "\n",
    "df.head()\n"
   ]
  }
 ],
 "metadata": {
  "kernelspec": {
   "display_name": "venv",
   "language": "python",
   "name": "python3"
  },
  "language_info": {
   "codemirror_mode": {
    "name": "ipython",
    "version": 3
   },
   "file_extension": ".py",
   "mimetype": "text/x-python",
   "name": "python",
   "nbconvert_exporter": "python",
   "pygments_lexer": "ipython3",
   "version": "3.12.1"
  }
 },
 "nbformat": 4,
 "nbformat_minor": 5
}
