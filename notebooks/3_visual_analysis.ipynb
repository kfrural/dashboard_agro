{
 "cells": [
  {
   "cell_type": "code",
   "execution_count": null,
   "id": "d7afd04e",
   "metadata": {},
   "outputs": [],
   "source": [
    "import pandas as pd\n",
    "import seaborn as sns\n",
    "import matplotlib.pyplot as plt\n",
    "\n",
    "df = pd.read_csv('../data/raw/producao_agropecuaria.csv')\n",
    "\n",
    "# Gráfico de produção por produto\n",
    "sns.boxplot(x='produto', y='producao_toneladas', data=df)\n",
    "plt.title(\"Distribuição da Produção por Produto\")\n",
    "plt.xticks(rotation=45)\n",
    "plt.show()\n"
   ]
  }
 ],
 "metadata": {
  "language_info": {
   "name": "python"
  }
 },
 "nbformat": 4,
 "nbformat_minor": 5
}
